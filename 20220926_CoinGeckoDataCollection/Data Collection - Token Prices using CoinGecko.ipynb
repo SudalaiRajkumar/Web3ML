{
 "cells": [
  {
   "cell_type": "markdown",
   "id": "ed9f9985",
   "metadata": {},
   "source": [
    "## Objective:\n",
    "\n",
    "Data collection is an integral part of the ML system as models cannot be built without data. So, in this notebook, let us look into one of the ways to collect the data for web3.\n",
    "\n",
    "Cryptocurrencies form the integral part of the web3 ecosystem. So, in this notebook, let us get the historical prices of these tokens. There are thousands of tokens available in the web3 ecosystem. \n",
    "\n",
    "[CoinGecko](https://www.coingecko.com/) is one of the largest cryptocurrency data aggregator and also offers us [free API](https://www.coingecko.com/en/api) to use. So, we will use this free API to pull the historical prices.\n",
    "\n",
    "Also, we will be pulling the data only for the top 50 coins. This can be extended to pull the data for the coins of interest with modifications.\n",
    "\n",
    "So, let us get started."
   ]
  },
  {
   "cell_type": "markdown",
   "id": "9a66f221",
   "metadata": {},
   "source": [
    "## Installation of pycoingecko\n",
    "\n",
    "We will be using the python client (unofficial) to get the data. So let us first install the [pycoingecko](https://github.com/man-c/pycoingecko) python client."
   ]
  },
  {
   "cell_type": "code",
   "execution_count": 2,
   "id": "e4e5c3a3",
   "metadata": {},
   "outputs": [],
   "source": [
    "!pip install -U pycoingecko"
   ]
  },
  {
   "cell_type": "markdown",
   "id": "7bc9d9d2",
   "metadata": {},
   "source": [
    "## Top 50 crypto tokens by market cap\n",
    "\n",
    "In this section, let us first use the API to get the top 50 tokens by market cap."
   ]
  },
  {
   "cell_type": "code",
   "execution_count": 4,
   "id": "5b4d1566",
   "metadata": {},
   "outputs": [],
   "source": [
    "import numpy as np\n",
    "import pandas as pd\n",
    "import requests\n",
    "import json\n",
    "import datetime\n",
    "import time\n",
    "\n",
    "from pycoingecko import CoinGeckoAPI\n",
    "cg = CoinGeckoAPI()"
   ]
  },
  {
   "cell_type": "markdown",
   "id": "edf838f7",
   "metadata": {},
   "source": [
    "We will use `cg.get_coins_markets` function to get the data. This will give us the top 100 coins by market capitalization. We can also specify the currency in which we need the prices and let us use USD for this."
   ]
  },
  {
   "cell_type": "code",
   "execution_count": 8,
   "id": "71736bf9",
   "metadata": {},
   "outputs": [
    {
     "data": {
      "text/plain": [
       "{'id': 'bitcoin',\n",
       " 'symbol': 'btc',\n",
       " 'name': 'Bitcoin',\n",
       " 'image': 'https://assets.coingecko.com/coins/images/1/large/bitcoin.png?1547033579',\n",
       " 'current_price': 18866.06,\n",
       " 'market_cap': 358946992061,\n",
       " 'market_cap_rank': 1,\n",
       " 'fully_diluted_valuation': 393398141141,\n",
       " 'total_volume': 27147370357,\n",
       " 'high_24h': 19142.43,\n",
       " 'low_24h': 18708.63,\n",
       " 'price_change_24h': -224.82682384019063,\n",
       " 'price_change_percentage_24h': -1.17767,\n",
       " 'market_cap_change_24h': -6368424369.597046,\n",
       " 'market_cap_change_percentage_24h': -1.74327,\n",
       " 'circulating_supply': 19160962.0,\n",
       " 'total_supply': 21000000.0,\n",
       " 'max_supply': 21000000.0,\n",
       " 'ath': 69045,\n",
       " 'ath_change_percentage': -72.86982,\n",
       " 'ath_date': '2021-11-10T14:24:11.849Z',\n",
       " 'atl': 67.81,\n",
       " 'atl_change_percentage': 27524.60911,\n",
       " 'atl_date': '2013-07-06T00:00:00.000Z',\n",
       " 'roi': None,\n",
       " 'last_updated': '2022-09-26T07:27:03.188Z'}"
      ]
     },
     "execution_count": 8,
     "metadata": {},
     "output_type": "execute_result"
    }
   ],
   "source": [
    "response = cg.get_coins_markets(vs_currency=\"USD\")\n",
    "response[0]"
   ]
  },
  {
   "cell_type": "markdown",
   "id": "dd63dc71",
   "metadata": {},
   "source": [
    "There are quite a few information present for each coin. We will be needing the `id` column to pull the historical data and so let us get that for the first 50 coins."
   ]
  },
  {
   "cell_type": "code",
   "execution_count": 11,
   "id": "d1521133",
   "metadata": {},
   "outputs": [
    {
     "data": {
      "text/plain": [
       "['bitcoin',\n",
       " 'ethereum',\n",
       " 'tether',\n",
       " 'usd-coin',\n",
       " 'binancecoin',\n",
       " 'ripple',\n",
       " 'binance-usd',\n",
       " 'cardano',\n",
       " 'solana',\n",
       " 'dogecoin',\n",
       " 'polkadot',\n",
       " 'dai',\n",
       " 'shiba-inu',\n",
       " 'staked-ether',\n",
       " 'tron',\n",
       " 'matic-network',\n",
       " 'avalanche-2',\n",
       " 'wrapped-bitcoin',\n",
       " 'uniswap',\n",
       " 'cosmos',\n",
       " 'ethereum-classic',\n",
       " 'leo-token',\n",
       " 'okb',\n",
       " 'chainlink',\n",
       " 'litecoin',\n",
       " 'ftx-token',\n",
       " 'stellar',\n",
       " 'near',\n",
       " 'crypto-com-chain',\n",
       " 'monero',\n",
       " 'algorand',\n",
       " 'bitcoin-cash',\n",
       " 'apecoin',\n",
       " 'flow',\n",
       " 'filecoin',\n",
       " 'vechain',\n",
       " 'chain-2',\n",
       " 'quant-network',\n",
       " 'internet-computer',\n",
       " 'hedera-hashgraph',\n",
       " 'frax',\n",
       " 'chiliz',\n",
       " 'terra-luna',\n",
       " 'tezos',\n",
       " 'the-sandbox',\n",
       " 'decentraland',\n",
       " 'eos',\n",
       " 'axie-infinity',\n",
       " 'theta-token',\n",
       " 'elrond-erd-2']"
      ]
     },
     "execution_count": 11,
     "metadata": {},
     "output_type": "execute_result"
    }
   ],
   "source": [
    "coins_list = [coin[\"id\"] for coin in response[:50]]\n",
    "coins_list"
   ]
  },
  {
   "cell_type": "markdown",
   "id": "eed2cfc0",
   "metadata": {},
   "source": [
    "## Data Collection\n",
    "\n",
    "Let us get the data from Jan 01, 2015."
   ]
  },
  {
   "cell_type": "code",
   "execution_count": 12,
   "id": "6ee70298",
   "metadata": {},
   "outputs": [],
   "source": [
    "# Number of historical days to get the data\n",
    "n_days = (datetime.date.today() - datetime.date(2014,12,31)).days"
   ]
  },
  {
   "cell_type": "markdown",
   "id": "38304a09",
   "metadata": {},
   "source": [
    "We will now use some helper functions to get the data.\n",
    "\n",
    "* `get_date_information` - function to convert the time information from epoch time to human readable time format\n",
    "* `get_value_from_list` - Some of the values from coingecko api are in tuple format and so this function helps us to get the value from the tuple.\n",
    "* `get_historical_data_for_coin` - if we specify the coin name and number of days to pull, this function will pull the data and save the data as a csv file"
   ]
  },
  {
   "cell_type": "code",
   "execution_count": 13,
   "id": "ca3f694e",
   "metadata": {},
   "outputs": [],
   "source": [
    "def get_date_information(value):\n",
    "    \"\"\"Function to get the datetime from epoch time\"\"\"\n",
    "    return datetime.datetime.fromtimestamp(value[0]/1000)\n",
    "\n",
    "def get_value_from_list(value):\n",
    "    \"\"\"Fucntion to get the value from response\"\"\"\n",
    "    return value[1]\n",
    "\n",
    "def get_historical_data_for_coin(coin_name, n_days):\n",
    "    \"\"\"Function to get the hisrotical data for one single coin\"\"\"\n",
    "    coin_data = cg.get_coin_market_chart_by_id(id=coin_name, vs_currency='usd', days=n_days)\n",
    "    coin_df = pd.DataFrame(coin_data)\n",
    "    coin_df = coin_df.iloc[:-1] # Remove today\n",
    "    coin_df[\"date\"] = coin_df[\"prices\"].apply(lambda x: get_date_information(x))\n",
    "    coin_df[\"price\"] = coin_df[\"prices\"].apply(lambda x: get_value_from_list(x))\n",
    "    coin_df[\"total_volume\"] = coin_df[\"total_volumes\"].apply(lambda x: get_value_from_list(x))\n",
    "    coin_df[\"market_cap\"] = coin_df[\"market_caps\"].apply(lambda x: get_value_from_list(x))\n",
    "    coin_df[\"coin_name\"] = coin_name\n",
    "    coin_df.drop([\"prices\", \"total_volumes\", \"market_caps\"], axis=1, inplace=True)\n",
    "    coin_df.to_csv(f\"./{coin_name}.csv\", index=False)"
   ]
  },
  {
   "cell_type": "markdown",
   "id": "042668b9",
   "metadata": {},
   "source": [
    "Now, let us pull the data for the top 50 coins and save them as csv files."
   ]
  },
  {
   "cell_type": "code",
   "execution_count": 14,
   "id": "564c3fb4",
   "metadata": {},
   "outputs": [],
   "source": [
    "for coin_name in coins_list:\n",
    "    get_historical_data_for_coin(coin_name, n_days)\n",
    "    time.sleep(10) # Not to overload API"
   ]
  },
  {
   "cell_type": "markdown",
   "id": "e49a4c23",
   "metadata": {},
   "source": [
    "Tada! Now we have the data for the top 50 tokens to do some analysis.\n",
    "\n",
    "If you are looking to pull data for other tokens, please get the `id` value from the coingecko and use the above functions to pull the data.\n",
    "\n",
    "We have created a dataset based on the above code in Kaggle and can be accessed here - [Cryptocoins Historical Prices - CoinGecko](https://www.kaggle.com/datasets/sudalairajkumar/cryptocurrency-historical-prices-coingecko). This also gets updated on a daily basis and so feel free to use them for your analysis."
   ]
  }
 ],
 "metadata": {
  "kernelspec": {
   "display_name": "Python 3 (ipykernel)",
   "language": "python",
   "name": "python3"
  },
  "language_info": {
   "codemirror_mode": {
    "name": "ipython",
    "version": 3
   },
   "file_extension": ".py",
   "mimetype": "text/x-python",
   "name": "python",
   "nbconvert_exporter": "python",
   "pygments_lexer": "ipython3",
   "version": "3.10.4"
  }
 },
 "nbformat": 4,
 "nbformat_minor": 5
}
