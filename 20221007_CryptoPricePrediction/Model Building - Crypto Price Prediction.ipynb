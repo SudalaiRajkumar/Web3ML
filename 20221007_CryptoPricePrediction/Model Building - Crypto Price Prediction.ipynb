{
 "cells": [
  {
   "cell_type": "markdown",
   "id": "89916c5c",
   "metadata": {},
   "source": [
    "# Kindly note that this blog is for educational purpose only.  "
   ]
  },
  {
   "cell_type": "markdown",
   "id": "b37b8a01",
   "metadata": {},
   "source": [
    "## Notebook Objective:\n",
    "\n",
    "In this notebook, we will take up the task of predicting the crypto coin prices specifically bitcoin. But, one can simply use the same code format for other coins as well.\n",
    "\n",
    "The objective is to build a baseline ML model to try and predict the percentage increase / decrease in the bitcoin price for the next day, given the historical information. \n",
    "\n",
    "We will use the dataset from this [Kaggle Dataset - Cryptocoin Historical Prices - CoinGecko](https://www.kaggle.com/datasets/sudalairajkumar/cryptocurrency-historical-prices-coingecko?sort=published&select=bitcoin.csv) for our model building process. Please refer to this [blog post](https://web3ml.xyz/blogs/data-collection) to know more about the data collection process.\n",
    "\n",
    "**DISCLAIMER:**\n",
    "\n",
    "**Once again we would like to re-iterate that this is a sample code that has been created for educational purpose only. Please do not make any invetment decision based on this one.**  "
   ]
  },
  {
   "cell_type": "markdown",
   "id": "67e604d7",
   "metadata": {},
   "source": [
    "Firstly, let us import the necessary modules."
   ]
  },
  {
   "cell_type": "code",
   "execution_count": 1,
   "id": "25f89daf",
   "metadata": {},
   "outputs": [],
   "source": [
    "import numpy as np\n",
    "import pandas as pd\n",
    "from sklearn.linear_model import LinearRegression\n",
    "from sklearn import metrics\n",
    "from scipy import stats\n",
    "\n",
    "from sklearn.metrics import confusion_matrix\n",
    "from sklearn.metrics import ConfusionMatrixDisplay"
   ]
  },
  {
   "cell_type": "markdown",
   "id": "e7b9fd6a",
   "metadata": {},
   "source": [
    "### Data Exploration\n",
    "\n",
    "Let us read the bitcoin dataset (please download from the above mentioned link) and look at the top few rows."
   ]
  },
  {
   "cell_type": "code",
   "execution_count": 2,
   "id": "bd6f0137",
   "metadata": {},
   "outputs": [
    {
     "data": {
      "text/html": [
       "<div>\n",
       "<style scoped>\n",
       "    .dataframe tbody tr th:only-of-type {\n",
       "        vertical-align: middle;\n",
       "    }\n",
       "\n",
       "    .dataframe tbody tr th {\n",
       "        vertical-align: top;\n",
       "    }\n",
       "\n",
       "    .dataframe thead th {\n",
       "        text-align: right;\n",
       "    }\n",
       "</style>\n",
       "<table border=\"1\" class=\"dataframe\">\n",
       "  <thead>\n",
       "    <tr style=\"text-align: right;\">\n",
       "      <th></th>\n",
       "      <th>date</th>\n",
       "      <th>price</th>\n",
       "      <th>total_volume</th>\n",
       "      <th>market_cap</th>\n",
       "      <th>coin_name</th>\n",
       "    </tr>\n",
       "  </thead>\n",
       "  <tbody>\n",
       "    <tr>\n",
       "      <th>0</th>\n",
       "      <td>2015-01-01 00:00:00.000</td>\n",
       "      <td>313.992</td>\n",
       "      <td>4.699936e+07</td>\n",
       "      <td>4.293958e+09</td>\n",
       "      <td>bitcoin</td>\n",
       "    </tr>\n",
       "    <tr>\n",
       "      <th>1</th>\n",
       "      <td>2015-01-02 00:00:00.000</td>\n",
       "      <td>314.446</td>\n",
       "      <td>3.885591e+07</td>\n",
       "      <td>4.301448e+09</td>\n",
       "      <td>bitcoin</td>\n",
       "    </tr>\n",
       "    <tr>\n",
       "      <th>2</th>\n",
       "      <td>2015-01-03 00:00:00.000</td>\n",
       "      <td>286.572</td>\n",
       "      <td>1.187789e+08</td>\n",
       "      <td>3.921358e+09</td>\n",
       "      <td>bitcoin</td>\n",
       "    </tr>\n",
       "    <tr>\n",
       "      <th>3</th>\n",
       "      <td>2015-01-04 00:00:00.000</td>\n",
       "      <td>260.936</td>\n",
       "      <td>2.055001e+08</td>\n",
       "      <td>3.571640e+09</td>\n",
       "      <td>bitcoin</td>\n",
       "    </tr>\n",
       "    <tr>\n",
       "      <th>4</th>\n",
       "      <td>2015-01-05 00:00:00.000</td>\n",
       "      <td>273.220</td>\n",
       "      <td>1.550381e+08</td>\n",
       "      <td>3.740880e+09</td>\n",
       "      <td>bitcoin</td>\n",
       "    </tr>\n",
       "  </tbody>\n",
       "</table>\n",
       "</div>"
      ],
      "text/plain": [
       "                      date    price  total_volume    market_cap coin_name\n",
       "0  2015-01-01 00:00:00.000  313.992  4.699936e+07  4.293958e+09   bitcoin\n",
       "1  2015-01-02 00:00:00.000  314.446  3.885591e+07  4.301448e+09   bitcoin\n",
       "2  2015-01-03 00:00:00.000  286.572  1.187789e+08  3.921358e+09   bitcoin\n",
       "3  2015-01-04 00:00:00.000  260.936  2.055001e+08  3.571640e+09   bitcoin\n",
       "4  2015-01-05 00:00:00.000  273.220  1.550381e+08  3.740880e+09   bitcoin"
      ]
     },
     "execution_count": 2,
     "metadata": {},
     "output_type": "execute_result"
    }
   ],
   "source": [
    "df = pd.read_csv(\"bitcoin.csv\")\n",
    "df.head()"
   ]
  },
  {
   "cell_type": "code",
   "execution_count": 3,
   "id": "73f6f343",
   "metadata": {},
   "outputs": [
    {
     "data": {
      "text/plain": [
       "(2835, 5)"
      ]
     },
     "execution_count": 3,
     "metadata": {},
     "output_type": "execute_result"
    }
   ],
   "source": [
    "df.shape"
   ]
  },
  {
   "cell_type": "markdown",
   "id": "3eac0925",
   "metadata": {},
   "source": [
    "We have 2835 rows in the dataset and data is available from 2015-01-01 at daily level. \n",
    "\n",
    "We have `price`, `volume` and `marketcap` information in the dataset apart from the `date`. \n",
    "\n",
    "* `price` represents the price of bitcoin in USD on the given date\n",
    "* `total_volume` represents the total volume traded in USD on the given date\n",
    "* `market_cap` represents the market capitalization of bitcoin on the given date\n",
    "\n",
    "Now let us plot the price information to see how it varied over time."
   ]
  },
  {
   "cell_type": "code",
   "execution_count": 4,
   "id": "05161c0e",
   "metadata": {},
   "outputs": [
    {
     "data": {
      "text/plain": [
       "<AxesSubplot:>"
      ]
     },
     "execution_count": 4,
     "metadata": {},
     "output_type": "execute_result"
    },
    {
     "data": {
      "image/png": "[encoded data removed]",
      "text/plain": [
       "<Figure size 432x288 with 1 Axes>"
      ]
     },
     "metadata": {
      "needs_background": "light"
     },
     "output_type": "display_data"
    }
   ],
   "source": [
    "df[\"price\"].plot()"
   ]
  },
  {
   "cell_type": "markdown",
   "id": "8c532f38",
   "metadata": {},
   "source": [
    "As we could see from the `price` plot above, the price of the bitcoin ranges from ~250 USD to ~70,000 USD in the dataset. This is a huge range.\n",
    "\n",
    "So, if we try to predict the `price` directly, the model predictions may not be satisfactory.\n",
    "\n",
    "We need a target variable which is not as volatile as this and also makes business sense.\n",
    "\n",
    "So, let us try to predict the `percentage of price change` (Price on t+1 day / Price on t day) which will be range bound and also can be used to make business decisions. "
   ]
  },
  {
   "cell_type": "markdown",
   "id": "b6cf27eb",
   "metadata": {},
   "source": [
    "### Feature Creation\n",
    "\n",
    "Next step is the feature creation process where we try to create features that will be given as input to the model.\n",
    "\n",
    "Since we are doing price prediction, the historical price values and the volume values are most likely of importance.\n",
    "\n",
    "Also, we are trying to predict the `percentage of price change` as our target and so we will create `historical percentage change features` as our input features rather than absolute values. We will create `historical percentage change features` on `price` and `total_volume` for the previous 5 days for any given day.\n",
    "\n",
    "Below is a simple function to create these basic features that we can make use of. \n",
    "\n",
    "We can adjust the number of historical days to 10 or 15 and explore, but we will stick to 5 days for our baseline model. Also we can try a lot of other feature engineering here to improve our model predictions."
   ]
  },
  {
   "cell_type": "code",
   "execution_count": 5,
   "id": "fd9b9497",
   "metadata": {},
   "outputs": [],
   "source": [
    "def create_features(df):\n",
    "    features_to_use = []\n",
    "    # We will create features based on last 5 days\n",
    "    for day_value in range(5):\n",
    "        # Price based features\n",
    "        df[f\"price_{day_value}day_previous\"] = df[\"price\"].shift(day_value)\n",
    "        # Percent change of price\n",
    "        df[f\"price_change_{day_value}day\"] = df[\"price\"] / df[f\"price_{day_value}day_previous\"]\n",
    "        features_to_use.append(f\"price_change_{day_value}day\")\n",
    "        # Volume based features\n",
    "        df[f\"volume_{day_value}day_previous\"] = df[\"total_volume\"].shift(day_value)\n",
    "        df[f\"volume_change_{day_value}day\"] = df[\"total_volume\"] / df[f\"volume_{day_value}day_previous\"]\n",
    "        features_to_use.append(f\"volume_change_{day_value}day\")     \n",
    "    return df, features_to_use"
   ]
  },
  {
   "cell_type": "markdown",
   "id": "025422ce",
   "metadata": {},
   "source": [
    "### Target Creation\n",
    "\n",
    "Now let us move to the target creation part. \n",
    "\n",
    "As discussed earlier, our target will be the percentage of price change on 1 day time interval.\n",
    "\n",
    "`target = Price on 't+1' day / Price on 't' day`\n",
    "\n",
    "Below is a function to help us create the target variable."
   ]
  },
  {
   "cell_type": "code",
   "execution_count": 6,
   "id": "d3d9ce83",
   "metadata": {},
   "outputs": [],
   "source": [
    "def create_target(df):\n",
    "    df[\"price_next_day\"] = df[\"price\"].shift(-1)\n",
    "    df[\"target\"] = df[\"price_next_day\"] / df[\"price\"]\n",
    "    # We will remove the rows where the target is null\n",
    "    df = df[~df[\"target\"].isnull()].reset_index(drop=True)\n",
    "    return df"
   ]
  },
  {
   "cell_type": "markdown",
   "id": "bc6abcee",
   "metadata": {},
   "source": [
    "### Validation Split\n",
    "\n",
    "For any machine learning model, validation is very important as it helps us to avoid overfitting. Since we also have  time component in our dataset, let us do the validation based on time.\n",
    "\n",
    "We will split the dataset into `train`, `val` and `test` based on time. We could also do time based cross validation to make it more robust but we stick to simple split for the baseline model.\n",
    "\n",
    "We will use the last 30 days as our test dataset and the 30 days before that as our validation dataset.\n",
    "\n",
    "Now let us create a function to help us split the data into `train`, `validation` and `test` sets."
   ]
  },
  {
   "cell_type": "code",
   "execution_count": 7,
   "id": "ff2e149a",
   "metadata": {},
   "outputs": [],
   "source": [
    "def get_validation_test_split(df, features_to_use, val_days=30, test_days=30):\n",
    "    X = df[features_to_use]\n",
    "    y = df[\"target\"].values\n",
    "    test_index = - test_days\n",
    "    val_index = test_index - val_days\n",
    "    dev_X, val_X, test_X = X.iloc[:val_index,:], X.iloc[val_index:test_index,:], X.iloc[test_index:,:]\n",
    "    dev_y, val_y, test_y = y[:val_index], y[val_index:test_index], y[test_index:]\n",
    "    return dev_X, dev_y, val_X, val_y, test_X, test_y"
   ]
  },
  {
   "cell_type": "markdown",
   "id": "8147eb58",
   "metadata": {},
   "source": [
    "Now let us call these above functions to create our features, target and split the datasets."
   ]
  },
  {
   "cell_type": "code",
   "execution_count": 8,
   "id": "3ad4ca4f",
   "metadata": {},
   "outputs": [
    {
     "name": "stdout",
     "output_type": "stream",
     "text": [
      "(2774, 10) (2774,) (30, 10) (30,) (30, 10) (30,)\n"
     ]
    }
   ],
   "source": [
    "# feature creation\n",
    "df, features_to_use = create_features(df)\n",
    "\n",
    "# target_creation\n",
    "df = create_target(df)\n",
    "\n",
    "# data split\n",
    "train_X, train_y, val_X, val_y, test_X, test_y = get_validation_test_split(df, features_to_use)\n",
    "print(train_X.shape, train_y.shape, val_X.shape, val_y.shape, test_X.shape, test_y.shape)"
   ]
  },
  {
   "cell_type": "markdown",
   "id": "d1225f2e",
   "metadata": {},
   "source": [
    "Now let us take a look at our `target` (percentage of price change) to make sure that the range of the target values are not as wide as the absolute `price` values. "
   ]
  },
  {
   "cell_type": "code",
   "execution_count": 9,
   "id": "3f9d2575",
   "metadata": {},
   "outputs": [
    {
     "data": {
      "text/plain": [
       "<AxesSubplot:>"
      ]
     },
     "execution_count": 9,
     "metadata": {},
     "output_type": "execute_result"
    },
    {
     "data": {
      "image/png": "[encoded data removed]",
      "text/plain": [
       "<Figure size 432x288 with 1 Axes>"
      ]
     },
     "metadata": {
      "needs_background": "light"
     },
     "output_type": "display_data"
    }
   ],
   "source": [
    "df[\"target\"].plot()"
   ]
  },
  {
   "cell_type": "markdown",
   "id": "10ee9699",
   "metadata": {},
   "source": [
    "As we can see, now our target is more rangebound now compared to using `price` as target. \n",
    "\n",
    "But still we can see some huge fluctuations on certain days like 1.3 and 0.7 !! "
   ]
  },
  {
   "cell_type": "markdown",
   "id": "ad272e19",
   "metadata": {},
   "source": [
    "### Handling Missing Values\n",
    "\n",
    "We have some missing values in our input features since we created history based features. So we will backfill the missing values whenever they are present."
   ]
  },
  {
   "cell_type": "code",
   "execution_count": 10,
   "id": "b366416e",
   "metadata": {},
   "outputs": [],
   "source": [
    "train_X = train_X.fillna(method=\"bfill\")\n",
    "val_X = val_X.fillna(method=\"bfill\")\n",
    "test_X = test_X.fillna(method=\"bfill\")"
   ]
  },
  {
   "cell_type": "markdown",
   "id": "1a30748f",
   "metadata": {},
   "source": [
    "### Model Building\n",
    "\n",
    "Now let us build our models finally. We will build a linear regression model as our baseline model using the train dataset."
   ]
  },
  {
   "cell_type": "code",
   "execution_count": 11,
   "id": "313e4740",
   "metadata": {},
   "outputs": [
    {
     "data": {
      "text/html": [
       "<style>#sk-container-id-1 {color: black;background-color: white;}#sk-container-id-1 pre{padding: 0;}#sk-container-id-1 div.sk-toggleable {background-color: white;}#sk-container-id-1 label.sk-toggleable__label {cursor: pointer;display: block;width: 100%;margin-bottom: 0;padding: 0.3em;box-sizing: border-box;text-align: center;}#sk-container-id-1 label.sk-toggleable__label-arrow:before {content: \"▸\";float: left;margin-right: 0.25em;color: #696969;}#sk-container-id-1 label.sk-toggleable__label-arrow:hover:before {color: black;}#sk-container-id-1 div.sk-estimator:hover label.sk-toggleable__label-arrow:before {color: black;}#sk-container-id-1 div.sk-toggleable__content {max-height: 0;max-width: 0;overflow: hidden;text-align: left;background-color: #f0f8ff;}#sk-container-id-1 div.sk-toggleable__content pre {margin: 0.2em;color: black;border-radius: 0.25em;background-color: #f0f8ff;}#sk-container-id-1 input.sk-toggleable__control:checked~div.sk-toggleable__content {max-height: 200px;max-width: 100%;overflow: auto;}#sk-container-id-1 input.sk-toggleable__control:checked~label.sk-toggleable__label-arrow:before {content: \"▾\";}#sk-container-id-1 div.sk-estimator input.sk-toggleable__control:checked~label.sk-toggleable__label {background-color: #d4ebff;}#sk-container-id-1 div.sk-label input.sk-toggleable__control:checked~label.sk-toggleable__label {background-color: #d4ebff;}#sk-container-id-1 input.sk-hidden--visually {border: 0;clip: rect(1px 1px 1px 1px);clip: rect(1px, 1px, 1px, 1px);height: 1px;margin: -1px;overflow: hidden;padding: 0;position: absolute;width: 1px;}#sk-container-id-1 div.sk-estimator {font-family: monospace;background-color: #f0f8ff;border: 1px dotted black;border-radius: 0.25em;box-sizing: border-box;margin-bottom: 0.5em;}#sk-container-id-1 div.sk-estimator:hover {background-color: #d4ebff;}#sk-container-id-1 div.sk-parallel-item::after {content: \"\";width: 100%;border-bottom: 1px solid gray;flex-grow: 1;}#sk-container-id-1 div.sk-label:hover label.sk-toggleable__label {background-color: #d4ebff;}#sk-container-id-1 div.sk-serial::before {content: \"\";position: absolute;border-left: 1px solid gray;box-sizing: border-box;top: 0;bottom: 0;left: 50%;z-index: 0;}#sk-container-id-1 div.sk-serial {display: flex;flex-direction: column;align-items: center;background-color: white;padding-right: 0.2em;padding-left: 0.2em;position: relative;}#sk-container-id-1 div.sk-item {position: relative;z-index: 1;}#sk-container-id-1 div.sk-parallel {display: flex;align-items: stretch;justify-content: center;background-color: white;position: relative;}#sk-container-id-1 div.sk-item::before, #sk-container-id-1 div.sk-parallel-item::before {content: \"\";position: absolute;border-left: 1px solid gray;box-sizing: border-box;top: 0;bottom: 0;left: 50%;z-index: -1;}#sk-container-id-1 div.sk-parallel-item {display: flex;flex-direction: column;z-index: 1;position: relative;background-color: white;}#sk-container-id-1 div.sk-parallel-item:first-child::after {align-self: flex-end;width: 50%;}#sk-container-id-1 div.sk-parallel-item:last-child::after {align-self: flex-start;width: 50%;}#sk-container-id-1 div.sk-parallel-item:only-child::after {width: 0;}#sk-container-id-1 div.sk-dashed-wrapped {border: 1px dashed gray;margin: 0 0.4em 0.5em 0.4em;box-sizing: border-box;padding-bottom: 0.4em;background-color: white;}#sk-container-id-1 div.sk-label label {font-family: monospace;font-weight: bold;display: inline-block;line-height: 1.2em;}#sk-container-id-1 div.sk-label-container {text-align: center;}#sk-container-id-1 div.sk-container {/* jupyter's `normalize.less` sets `[hidden] { display: none; }` but bootstrap.min.css set `[hidden] { display: none !important; }` so we also need the `!important` here to be able to override the default hidden behavior on the sphinx rendered scikit-learn.org. See: https://github.com/scikit-learn/scikit-learn/issues/21755 */display: inline-block !important;position: relative;}#sk-container-id-1 div.sk-text-repr-fallback {display: none;}</style><div id=\"sk-container-id-1\" class=\"sk-top-container\"><div class=\"sk-text-repr-fallback\"><pre>LinearRegression()</pre><b>In a Jupyter environment, please rerun this cell to show the HTML representation or trust the notebook. <br />On GitHub, the HTML representation is unable to render, please try loading this page with nbviewer.org.</b></div><div class=\"sk-container\" hidden><div class=\"sk-item\"><div class=\"sk-estimator sk-toggleable\"><input class=\"sk-toggleable__control sk-hidden--visually\" id=\"sk-estimator-id-1\" type=\"checkbox\" checked><label for=\"sk-estimator-id-1\" class=\"sk-toggleable__label sk-toggleable__label-arrow\">LinearRegression</label><div class=\"sk-toggleable__content\"><pre>LinearRegression()</pre></div></div></div></div></div>"
      ],
      "text/plain": [
       "LinearRegression()"
      ]
     },
     "execution_count": 11,
     "metadata": {},
     "output_type": "execute_result"
    }
   ],
   "source": [
    "model = LinearRegression()\n",
    "model.fit(train_X, train_y)"
   ]
  },
  {
   "cell_type": "markdown",
   "id": "035d5afc",
   "metadata": {},
   "source": [
    "Now let us make predictions on the validation dataset and then evaluate the model performance.\n",
    "\n",
    "We will use spearman correlation for evaluation."
   ]
  },
  {
   "cell_type": "code",
   "execution_count": 12,
   "id": "8d0a1492",
   "metadata": {},
   "outputs": [
    {
     "data": {
      "text/plain": [
       "0.26807563959955505"
      ]
     },
     "execution_count": 12,
     "metadata": {},
     "output_type": "execute_result"
    }
   ],
   "source": [
    "pred_val_y = model.predict(val_X)\n",
    "stats.spearmanr(val_y, pred_val_y).correlation"
   ]
  },
  {
   "cell_type": "markdown",
   "id": "28c4a292",
   "metadata": {},
   "source": [
    "Not very bad as the spearman correlation is positive for our validation dataset. "
   ]
  },
  {
   "cell_type": "markdown",
   "id": "4720e930",
   "metadata": {},
   "source": [
    "### Performance Evaluation\n",
    "\n",
    "Now, let us check the confusion matrix for our validation sample by converting the numerical predictions to binary values.\n",
    "\n",
    "We will need a cutoff for making the nuemrical predictions to binary values. So let us use the median prediction value as our model cutoff to create binary predictions."
   ]
  },
  {
   "cell_type": "code",
   "execution_count": 13,
   "id": "0272f90d",
   "metadata": {},
   "outputs": [
    {
     "data": {
      "text/plain": [
       "1.0023511840477881"
      ]
     },
     "execution_count": 13,
     "metadata": {},
     "output_type": "execute_result"
    }
   ],
   "source": [
    "pred_train_y = model.predict(train_X)\n",
    "model_cutoff = np.median(pred_train_y)\n",
    "model_cutoff"
   ]
  },
  {
   "cell_type": "markdown",
   "id": "5ae87229",
   "metadata": {},
   "source": [
    "Now let us create a confusion matrix on the validation sample using the `model cutoff` of `1.00235`. If the prediction value is more than the `model_cutoff`, then the `binary prediction value` is 1 or else 0.\n",
    "\n",
    "We will also convert our target to `binary target value` (1 or 0) using a cutoff of 1.\n",
    "\n",
    "From the domain perspective, \n",
    "* `binary target value` of 1 means bitcoin gave positive returns on the given day\n",
    "* `binary target value` of 0 means bitcoin gave negative returns on the given day\n",
    "* `binary prediction value` of 1 means the model predicted positive returns on the given day\n",
    "* `binary prediction value` of 0 means the model predcited negative returns on the given day"
   ]
  },
  {
   "cell_type": "code",
   "execution_count": 14,
   "id": "2303a8b1",
   "metadata": {},
   "outputs": [
    {
     "data": {
      "image/png": "[encoded data removed]",
      "text/plain": [
       "<Figure size 432x288 with 2 Axes>"
      ]
     },
     "metadata": {
      "needs_background": "light"
     },
     "output_type": "display_data"
    }
   ],
   "source": [
    "binary_target_value_val = val_y>1\n",
    "binary_prediction_value_val = pred_val_y>model_cutoff\n",
    "cm = confusion_matrix(binary_target_value_val, binary_prediction_value_val)\n",
    "cm_display = ConfusionMatrixDisplay(cm).plot()"
   ]
  },
  {
   "cell_type": "markdown",
   "id": "7079ef7d",
   "metadata": {},
   "source": [
    "This looks good. Out of 30 days, the model has made correct predictions on 20 days (11 + 9). \n",
    "\n",
    "Let us also check the performance on our test set."
   ]
  },
  {
   "cell_type": "code",
   "execution_count": 15,
   "id": "aaeb40b6",
   "metadata": {},
   "outputs": [
    {
     "data": {
      "image/png": "[encoded data removed]",
      "text/plain": [
       "<Figure size 432x288 with 2 Axes>"
      ]
     },
     "metadata": {
      "needs_background": "light"
     },
     "output_type": "display_data"
    }
   ],
   "source": [
    "pred_test_y = model.predict(test_X)\n",
    "binary_target_value_test = test_y>1\n",
    "binary_prediction_value_test = pred_test_y>model_cutoff\n",
    "cm = confusion_matrix(binary_target_value_test, binary_prediction_value_test)\n",
    "cm_display = ConfusionMatrixDisplay(cm).plot()"
   ]
  },
  {
   "cell_type": "markdown",
   "id": "3c5471ba",
   "metadata": {},
   "source": [
    "On the test set, the model has made correct predictions for 17 days out of 30 days which is lower than the validation dataset. So this means that the model is volatile and not very stable."
   ]
  },
  {
   "cell_type": "markdown",
   "id": "4a4d569a",
   "metadata": {},
   "source": [
    "### Profit / Loss Estimation\n",
    "\n",
    "Now let us assume that we used the model predictions to go `long` or `short` on the bitcoin and compute the profit and loss values for each day.\n",
    "\n",
    "When the model prediction is above cutoff, the action is `long` on the given day and when it is less than or equal to the cutoff, the action is `short` for the given day."
   ]
  },
  {
   "cell_type": "code",
   "execution_count": 16,
   "id": "0d70f678",
   "metadata": {},
   "outputs": [
    {
     "data": {
      "text/html": [
       "<div>\n",
       "<style scoped>\n",
       "    .dataframe tbody tr th:only-of-type {\n",
       "        vertical-align: middle;\n",
       "    }\n",
       "\n",
       "    .dataframe tbody tr th {\n",
       "        vertical-align: top;\n",
       "    }\n",
       "\n",
       "    .dataframe thead th {\n",
       "        text-align: right;\n",
       "    }\n",
       "</style>\n",
       "<table border=\"1\" class=\"dataframe\">\n",
       "  <thead>\n",
       "    <tr style=\"text-align: right;\">\n",
       "      <th></th>\n",
       "      <th>actual</th>\n",
       "      <th>preds</th>\n",
       "      <th>daily_change</th>\n",
       "      <th>long_short</th>\n",
       "      <th>profit_loss</th>\n",
       "    </tr>\n",
       "  </thead>\n",
       "  <tbody>\n",
       "    <tr>\n",
       "      <th>0</th>\n",
       "      <td>1.009268</td>\n",
       "      <td>1.002803</td>\n",
       "      <td>0.009268</td>\n",
       "      <td>1</td>\n",
       "      <td>0.009268</td>\n",
       "    </tr>\n",
       "    <tr>\n",
       "      <th>1</th>\n",
       "      <td>1.026989</td>\n",
       "      <td>1.002847</td>\n",
       "      <td>0.026989</td>\n",
       "      <td>1</td>\n",
       "      <td>0.026989</td>\n",
       "    </tr>\n",
       "    <tr>\n",
       "      <th>2</th>\n",
       "      <td>0.973976</td>\n",
       "      <td>1.000715</td>\n",
       "      <td>-0.026024</td>\n",
       "      <td>-1</td>\n",
       "      <td>0.026024</td>\n",
       "    </tr>\n",
       "    <tr>\n",
       "      <th>3</th>\n",
       "      <td>1.032113</td>\n",
       "      <td>1.002245</td>\n",
       "      <td>0.032113</td>\n",
       "      <td>-1</td>\n",
       "      <td>-0.032113</td>\n",
       "    </tr>\n",
       "    <tr>\n",
       "      <th>4</th>\n",
       "      <td>0.999997</td>\n",
       "      <td>1.002323</td>\n",
       "      <td>-0.000003</td>\n",
       "      <td>-1</td>\n",
       "      <td>0.000003</td>\n",
       "    </tr>\n",
       "    <tr>\n",
       "      <th>5</th>\n",
       "      <td>1.019317</td>\n",
       "      <td>1.002486</td>\n",
       "      <td>0.019317</td>\n",
       "      <td>1</td>\n",
       "      <td>0.019317</td>\n",
       "    </tr>\n",
       "    <tr>\n",
       "      <th>6</th>\n",
       "      <td>1.000912</td>\n",
       "      <td>1.002801</td>\n",
       "      <td>0.000912</td>\n",
       "      <td>1</td>\n",
       "      <td>0.000912</td>\n",
       "    </tr>\n",
       "    <tr>\n",
       "      <th>7</th>\n",
       "      <td>0.995043</td>\n",
       "      <td>1.002958</td>\n",
       "      <td>-0.004957</td>\n",
       "      <td>1</td>\n",
       "      <td>-0.004957</td>\n",
       "    </tr>\n",
       "    <tr>\n",
       "      <th>8</th>\n",
       "      <td>0.994508</td>\n",
       "      <td>1.003006</td>\n",
       "      <td>-0.005492</td>\n",
       "      <td>1</td>\n",
       "      <td>-0.005492</td>\n",
       "    </tr>\n",
       "    <tr>\n",
       "      <th>9</th>\n",
       "      <td>0.989012</td>\n",
       "      <td>1.001962</td>\n",
       "      <td>-0.010988</td>\n",
       "      <td>-1</td>\n",
       "      <td>0.010988</td>\n",
       "    </tr>\n",
       "    <tr>\n",
       "      <th>10</th>\n",
       "      <td>0.976837</td>\n",
       "      <td>1.002258</td>\n",
       "      <td>-0.023163</td>\n",
       "      <td>-1</td>\n",
       "      <td>0.023163</td>\n",
       "    </tr>\n",
       "    <tr>\n",
       "      <th>11</th>\n",
       "      <td>0.995247</td>\n",
       "      <td>1.002827</td>\n",
       "      <td>-0.004753</td>\n",
       "      <td>1</td>\n",
       "      <td>-0.004753</td>\n",
       "    </tr>\n",
       "    <tr>\n",
       "      <th>12</th>\n",
       "      <td>0.900959</td>\n",
       "      <td>1.002158</td>\n",
       "      <td>-0.099041</td>\n",
       "      <td>-1</td>\n",
       "      <td>0.099041</td>\n",
       "    </tr>\n",
       "    <tr>\n",
       "      <th>13</th>\n",
       "      <td>1.010952</td>\n",
       "      <td>1.003760</td>\n",
       "      <td>0.010952</td>\n",
       "      <td>1</td>\n",
       "      <td>0.010952</td>\n",
       "    </tr>\n",
       "    <tr>\n",
       "      <th>14</th>\n",
       "      <td>1.020804</td>\n",
       "      <td>1.000753</td>\n",
       "      <td>0.020804</td>\n",
       "      <td>-1</td>\n",
       "      <td>-0.020804</td>\n",
       "    </tr>\n",
       "    <tr>\n",
       "      <th>15</th>\n",
       "      <td>0.989451</td>\n",
       "      <td>0.999671</td>\n",
       "      <td>-0.010549</td>\n",
       "      <td>-1</td>\n",
       "      <td>0.010549</td>\n",
       "    </tr>\n",
       "    <tr>\n",
       "      <th>16</th>\n",
       "      <td>1.008168</td>\n",
       "      <td>1.002466</td>\n",
       "      <td>0.008168</td>\n",
       "      <td>1</td>\n",
       "      <td>0.008168</td>\n",
       "    </tr>\n",
       "    <tr>\n",
       "      <th>17</th>\n",
       "      <td>0.992255</td>\n",
       "      <td>1.002115</td>\n",
       "      <td>-0.007745</td>\n",
       "      <td>-1</td>\n",
       "      <td>0.007745</td>\n",
       "    </tr>\n",
       "    <tr>\n",
       "      <th>18</th>\n",
       "      <td>1.010402</td>\n",
       "      <td>1.002549</td>\n",
       "      <td>0.010402</td>\n",
       "      <td>1</td>\n",
       "      <td>0.010402</td>\n",
       "    </tr>\n",
       "    <tr>\n",
       "      <th>19</th>\n",
       "      <td>0.937705</td>\n",
       "      <td>1.002395</td>\n",
       "      <td>-0.062295</td>\n",
       "      <td>1</td>\n",
       "      <td>-0.062295</td>\n",
       "    </tr>\n",
       "    <tr>\n",
       "      <th>20</th>\n",
       "      <td>0.990066</td>\n",
       "      <td>1.003470</td>\n",
       "      <td>-0.009934</td>\n",
       "      <td>1</td>\n",
       "      <td>-0.009934</td>\n",
       "    </tr>\n",
       "    <tr>\n",
       "      <th>21</th>\n",
       "      <td>0.979536</td>\n",
       "      <td>1.002244</td>\n",
       "      <td>-0.020464</td>\n",
       "      <td>-1</td>\n",
       "      <td>0.020464</td>\n",
       "    </tr>\n",
       "    <tr>\n",
       "      <th>22</th>\n",
       "      <td>1.033044</td>\n",
       "      <td>1.001611</td>\n",
       "      <td>0.033044</td>\n",
       "      <td>-1</td>\n",
       "      <td>-0.033044</td>\n",
       "    </tr>\n",
       "    <tr>\n",
       "      <th>23</th>\n",
       "      <td>0.975207</td>\n",
       "      <td>1.000624</td>\n",
       "      <td>-0.024793</td>\n",
       "      <td>-1</td>\n",
       "      <td>0.024793</td>\n",
       "    </tr>\n",
       "    <tr>\n",
       "      <th>24</th>\n",
       "      <td>1.011017</td>\n",
       "      <td>1.002034</td>\n",
       "      <td>0.011017</td>\n",
       "      <td>-1</td>\n",
       "      <td>-0.011017</td>\n",
       "    </tr>\n",
       "    <tr>\n",
       "      <th>25</th>\n",
       "      <td>1.006513</td>\n",
       "      <td>1.002636</td>\n",
       "      <td>0.006513</td>\n",
       "      <td>1</td>\n",
       "      <td>0.006513</td>\n",
       "    </tr>\n",
       "    <tr>\n",
       "      <th>26</th>\n",
       "      <td>0.989455</td>\n",
       "      <td>1.002117</td>\n",
       "      <td>-0.010545</td>\n",
       "      <td>-1</td>\n",
       "      <td>0.010545</td>\n",
       "    </tr>\n",
       "    <tr>\n",
       "      <th>27</th>\n",
       "      <td>0.993637</td>\n",
       "      <td>1.002889</td>\n",
       "      <td>-0.006363</td>\n",
       "      <td>1</td>\n",
       "      <td>-0.006363</td>\n",
       "    </tr>\n",
       "    <tr>\n",
       "      <th>28</th>\n",
       "      <td>1.008350</td>\n",
       "      <td>1.002729</td>\n",
       "      <td>0.008350</td>\n",
       "      <td>1</td>\n",
       "      <td>0.008350</td>\n",
       "    </tr>\n",
       "    <tr>\n",
       "      <th>29</th>\n",
       "      <td>0.990276</td>\n",
       "      <td>1.001878</td>\n",
       "      <td>-0.009724</td>\n",
       "      <td>-1</td>\n",
       "      <td>0.009724</td>\n",
       "    </tr>\n",
       "  </tbody>\n",
       "</table>\n",
       "</div>"
      ],
      "text/plain": [
       "      actual     preds  daily_change  long_short  profit_loss\n",
       "0   1.009268  1.002803      0.009268           1     0.009268\n",
       "1   1.026989  1.002847      0.026989           1     0.026989\n",
       "2   0.973976  1.000715     -0.026024          -1     0.026024\n",
       "3   1.032113  1.002245      0.032113          -1    -0.032113\n",
       "4   0.999997  1.002323     -0.000003          -1     0.000003\n",
       "5   1.019317  1.002486      0.019317           1     0.019317\n",
       "6   1.000912  1.002801      0.000912           1     0.000912\n",
       "7   0.995043  1.002958     -0.004957           1    -0.004957\n",
       "8   0.994508  1.003006     -0.005492           1    -0.005492\n",
       "9   0.989012  1.001962     -0.010988          -1     0.010988\n",
       "10  0.976837  1.002258     -0.023163          -1     0.023163\n",
       "11  0.995247  1.002827     -0.004753           1    -0.004753\n",
       "12  0.900959  1.002158     -0.099041          -1     0.099041\n",
       "13  1.010952  1.003760      0.010952           1     0.010952\n",
       "14  1.020804  1.000753      0.020804          -1    -0.020804\n",
       "15  0.989451  0.999671     -0.010549          -1     0.010549\n",
       "16  1.008168  1.002466      0.008168           1     0.008168\n",
       "17  0.992255  1.002115     -0.007745          -1     0.007745\n",
       "18  1.010402  1.002549      0.010402           1     0.010402\n",
       "19  0.937705  1.002395     -0.062295           1    -0.062295\n",
       "20  0.990066  1.003470     -0.009934           1    -0.009934\n",
       "21  0.979536  1.002244     -0.020464          -1     0.020464\n",
       "22  1.033044  1.001611      0.033044          -1    -0.033044\n",
       "23  0.975207  1.000624     -0.024793          -1     0.024793\n",
       "24  1.011017  1.002034      0.011017          -1    -0.011017\n",
       "25  1.006513  1.002636      0.006513           1     0.006513\n",
       "26  0.989455  1.002117     -0.010545          -1     0.010545\n",
       "27  0.993637  1.002889     -0.006363           1    -0.006363\n",
       "28  1.008350  1.002729      0.008350           1     0.008350\n",
       "29  0.990276  1.001878     -0.009724          -1     0.009724"
      ]
     },
     "execution_count": 16,
     "metadata": {},
     "output_type": "execute_result"
    }
   ],
   "source": [
    "pred_val_df = pd.DataFrame({\n",
    "    \"actual\": val_y,\n",
    "    \"preds\": pred_val_y,\n",
    "    \"daily_change\": val_y - 1,\n",
    "    \"long_short\": np.where(pred_val_y > model_cutoff,1,-1),\n",
    "})\n",
    "pred_val_df[\"profit_loss\"] = pred_val_df[\"daily_change\"] * pred_val_df[\"long_short\"]\n",
    "pred_val_df"
   ]
  },
  {
   "cell_type": "markdown",
   "id": "74c4c177",
   "metadata": {},
   "source": [
    "In the above table, we have the results for the 30 days on the validation sample.\n",
    "\n",
    "Explanation of the columns are as follows:\n",
    "* `daily_change` shows the percentage change of bitcoin price on the given day\n",
    "* `long_short` shows the action taken on the given day. 1 is long and -1 is short.\n",
    "* `profit_loss` shows the profit or loss in percentage on the given day\n",
    "\n",
    "We see both profits and losses on the table. Now let us check the overall profit / loss for the 30 days on validation sample by summing up the `profit_loss` column."
   ]
  },
  {
   "cell_type": "code",
   "execution_count": 17,
   "id": "44c0cd21",
   "metadata": {},
   "outputs": [
    {
     "data": {
      "text/plain": [
       "0.15313911193689533"
      ]
     },
     "execution_count": 17,
     "metadata": {},
     "output_type": "execute_result"
    }
   ],
   "source": [
    "pred_val_df[\"profit_loss\"].sum()"
   ]
  },
  {
   "cell_type": "markdown",
   "id": "c05cc69b",
   "metadata": {},
   "source": [
    "Looks like the lady luck is on the model side during the validation sample duration as the returns are 15%!\n",
    "\n",
    "Now let us check the profit / loss estimation for the test dataset days to see if the model holds good on different time frame as well."
   ]
  },
  {
   "cell_type": "code",
   "execution_count": 18,
   "id": "643bde1f",
   "metadata": {},
   "outputs": [
    {
     "data": {
      "text/html": [
       "<div>\n",
       "<style scoped>\n",
       "    .dataframe tbody tr th:only-of-type {\n",
       "        vertical-align: middle;\n",
       "    }\n",
       "\n",
       "    .dataframe tbody tr th {\n",
       "        vertical-align: top;\n",
       "    }\n",
       "\n",
       "    .dataframe thead th {\n",
       "        text-align: right;\n",
       "    }\n",
       "</style>\n",
       "<table border=\"1\" class=\"dataframe\">\n",
       "  <thead>\n",
       "    <tr style=\"text-align: right;\">\n",
       "      <th></th>\n",
       "      <th>actual</th>\n",
       "      <th>preds</th>\n",
       "      <th>daily_change</th>\n",
       "      <th>long_short</th>\n",
       "      <th>profit_loss</th>\n",
       "    </tr>\n",
       "  </thead>\n",
       "  <tbody>\n",
       "    <tr>\n",
       "      <th>0</th>\n",
       "      <td>0.953187</td>\n",
       "      <td>1.002216</td>\n",
       "      <td>-0.046813</td>\n",
       "      <td>-1</td>\n",
       "      <td>0.046813</td>\n",
       "    </tr>\n",
       "    <tr>\n",
       "      <th>1</th>\n",
       "      <td>1.022330</td>\n",
       "      <td>1.002776</td>\n",
       "      <td>0.022330</td>\n",
       "      <td>1</td>\n",
       "      <td>0.022330</td>\n",
       "    </tr>\n",
       "    <tr>\n",
       "      <th>2</th>\n",
       "      <td>1.002186</td>\n",
       "      <td>1.001067</td>\n",
       "      <td>0.002186</td>\n",
       "      <td>-1</td>\n",
       "      <td>-0.002186</td>\n",
       "    </tr>\n",
       "    <tr>\n",
       "      <th>3</th>\n",
       "      <td>1.105410</td>\n",
       "      <td>1.001648</td>\n",
       "      <td>0.105410</td>\n",
       "      <td>-1</td>\n",
       "      <td>-0.105410</td>\n",
       "    </tr>\n",
       "    <tr>\n",
       "      <th>4</th>\n",
       "      <td>1.016283</td>\n",
       "      <td>1.000156</td>\n",
       "      <td>0.016283</td>\n",
       "      <td>-1</td>\n",
       "      <td>-0.016283</td>\n",
       "    </tr>\n",
       "    <tr>\n",
       "      <th>5</th>\n",
       "      <td>1.001493</td>\n",
       "      <td>1.002897</td>\n",
       "      <td>0.001493</td>\n",
       "      <td>1</td>\n",
       "      <td>0.001493</td>\n",
       "    </tr>\n",
       "    <tr>\n",
       "      <th>6</th>\n",
       "      <td>1.027593</td>\n",
       "      <td>1.005485</td>\n",
       "      <td>0.027593</td>\n",
       "      <td>1</td>\n",
       "      <td>0.027593</td>\n",
       "    </tr>\n",
       "    <tr>\n",
       "      <th>7</th>\n",
       "      <td>0.903548</td>\n",
       "      <td>1.002661</td>\n",
       "      <td>-0.096452</td>\n",
       "      <td>1</td>\n",
       "      <td>-0.096452</td>\n",
       "    </tr>\n",
       "    <tr>\n",
       "      <th>8</th>\n",
       "      <td>1.003515</td>\n",
       "      <td>1.004441</td>\n",
       "      <td>0.003515</td>\n",
       "      <td>1</td>\n",
       "      <td>0.003515</td>\n",
       "    </tr>\n",
       "    <tr>\n",
       "      <th>9</th>\n",
       "      <td>0.972662</td>\n",
       "      <td>1.002180</td>\n",
       "      <td>-0.027338</td>\n",
       "      <td>-1</td>\n",
       "      <td>0.027338</td>\n",
       "    </tr>\n",
       "    <tr>\n",
       "      <th>10</th>\n",
       "      <td>1.003159</td>\n",
       "      <td>1.001077</td>\n",
       "      <td>0.003159</td>\n",
       "      <td>-1</td>\n",
       "      <td>-0.003159</td>\n",
       "    </tr>\n",
       "    <tr>\n",
       "      <th>11</th>\n",
       "      <td>1.018582</td>\n",
       "      <td>1.001670</td>\n",
       "      <td>0.018582</td>\n",
       "      <td>-1</td>\n",
       "      <td>-0.018582</td>\n",
       "    </tr>\n",
       "    <tr>\n",
       "      <th>12</th>\n",
       "      <td>0.965501</td>\n",
       "      <td>1.001411</td>\n",
       "      <td>-0.034499</td>\n",
       "      <td>-1</td>\n",
       "      <td>0.034499</td>\n",
       "    </tr>\n",
       "    <tr>\n",
       "      <th>13</th>\n",
       "      <td>1.006854</td>\n",
       "      <td>1.003214</td>\n",
       "      <td>0.006854</td>\n",
       "      <td>1</td>\n",
       "      <td>0.006854</td>\n",
       "    </tr>\n",
       "    <tr>\n",
       "      <th>14</th>\n",
       "      <td>0.964208</td>\n",
       "      <td>1.001642</td>\n",
       "      <td>-0.035792</td>\n",
       "      <td>-1</td>\n",
       "      <td>0.035792</td>\n",
       "    </tr>\n",
       "    <tr>\n",
       "      <th>15</th>\n",
       "      <td>0.982496</td>\n",
       "      <td>1.002322</td>\n",
       "      <td>-0.017504</td>\n",
       "      <td>-1</td>\n",
       "      <td>0.017504</td>\n",
       "    </tr>\n",
       "    <tr>\n",
       "      <th>16</th>\n",
       "      <td>1.049876</td>\n",
       "      <td>1.002620</td>\n",
       "      <td>0.049876</td>\n",
       "      <td>1</td>\n",
       "      <td>0.049876</td>\n",
       "    </tr>\n",
       "    <tr>\n",
       "      <th>17</th>\n",
       "      <td>0.991142</td>\n",
       "      <td>1.000132</td>\n",
       "      <td>-0.008858</td>\n",
       "      <td>-1</td>\n",
       "      <td>0.008858</td>\n",
       "    </tr>\n",
       "    <tr>\n",
       "      <th>18</th>\n",
       "      <td>0.981757</td>\n",
       "      <td>1.002468</td>\n",
       "      <td>-0.018243</td>\n",
       "      <td>1</td>\n",
       "      <td>-0.018243</td>\n",
       "    </tr>\n",
       "    <tr>\n",
       "      <th>19</th>\n",
       "      <td>0.993107</td>\n",
       "      <td>1.004115</td>\n",
       "      <td>-0.006893</td>\n",
       "      <td>1</td>\n",
       "      <td>-0.006893</td>\n",
       "    </tr>\n",
       "    <tr>\n",
       "      <th>20</th>\n",
       "      <td>1.021814</td>\n",
       "      <td>1.002614</td>\n",
       "      <td>0.021814</td>\n",
       "      <td>1</td>\n",
       "      <td>0.021814</td>\n",
       "    </tr>\n",
       "    <tr>\n",
       "      <th>21</th>\n",
       "      <td>0.994620</td>\n",
       "      <td>1.000474</td>\n",
       "      <td>-0.005380</td>\n",
       "      <td>-1</td>\n",
       "      <td>0.005380</td>\n",
       "    </tr>\n",
       "    <tr>\n",
       "      <th>22</th>\n",
       "      <td>1.017182</td>\n",
       "      <td>1.001029</td>\n",
       "      <td>0.017182</td>\n",
       "      <td>-1</td>\n",
       "      <td>-0.017182</td>\n",
       "    </tr>\n",
       "    <tr>\n",
       "      <th>23</th>\n",
       "      <td>1.006119</td>\n",
       "      <td>1.002600</td>\n",
       "      <td>0.006119</td>\n",
       "      <td>1</td>\n",
       "      <td>0.006119</td>\n",
       "    </tr>\n",
       "    <tr>\n",
       "      <th>24</th>\n",
       "      <td>0.995561</td>\n",
       "      <td>1.002951</td>\n",
       "      <td>-0.004439</td>\n",
       "      <td>1</td>\n",
       "      <td>-0.004439</td>\n",
       "    </tr>\n",
       "    <tr>\n",
       "      <th>25</th>\n",
       "      <td>0.991659</td>\n",
       "      <td>1.003093</td>\n",
       "      <td>-0.008341</td>\n",
       "      <td>1</td>\n",
       "      <td>-0.008341</td>\n",
       "    </tr>\n",
       "    <tr>\n",
       "      <th>26</th>\n",
       "      <td>0.987092</td>\n",
       "      <td>1.003137</td>\n",
       "      <td>-0.012908</td>\n",
       "      <td>1</td>\n",
       "      <td>-0.012908</td>\n",
       "    </tr>\n",
       "    <tr>\n",
       "      <th>27</th>\n",
       "      <td>1.029132</td>\n",
       "      <td>1.002802</td>\n",
       "      <td>0.029132</td>\n",
       "      <td>1</td>\n",
       "      <td>0.029132</td>\n",
       "    </tr>\n",
       "    <tr>\n",
       "      <th>28</th>\n",
       "      <td>1.036942</td>\n",
       "      <td>1.000482</td>\n",
       "      <td>0.036942</td>\n",
       "      <td>-1</td>\n",
       "      <td>-0.036942</td>\n",
       "    </tr>\n",
       "    <tr>\n",
       "      <th>29</th>\n",
       "      <td>0.990977</td>\n",
       "      <td>1.000491</td>\n",
       "      <td>-0.009023</td>\n",
       "      <td>-1</td>\n",
       "      <td>0.009023</td>\n",
       "    </tr>\n",
       "  </tbody>\n",
       "</table>\n",
       "</div>"
      ],
      "text/plain": [
       "      actual     preds  daily_change  long_short  profit_loss\n",
       "0   0.953187  1.002216     -0.046813          -1     0.046813\n",
       "1   1.022330  1.002776      0.022330           1     0.022330\n",
       "2   1.002186  1.001067      0.002186          -1    -0.002186\n",
       "3   1.105410  1.001648      0.105410          -1    -0.105410\n",
       "4   1.016283  1.000156      0.016283          -1    -0.016283\n",
       "5   1.001493  1.002897      0.001493           1     0.001493\n",
       "6   1.027593  1.005485      0.027593           1     0.027593\n",
       "7   0.903548  1.002661     -0.096452           1    -0.096452\n",
       "8   1.003515  1.004441      0.003515           1     0.003515\n",
       "9   0.972662  1.002180     -0.027338          -1     0.027338\n",
       "10  1.003159  1.001077      0.003159          -1    -0.003159\n",
       "11  1.018582  1.001670      0.018582          -1    -0.018582\n",
       "12  0.965501  1.001411     -0.034499          -1     0.034499\n",
       "13  1.006854  1.003214      0.006854           1     0.006854\n",
       "14  0.964208  1.001642     -0.035792          -1     0.035792\n",
       "15  0.982496  1.002322     -0.017504          -1     0.017504\n",
       "16  1.049876  1.002620      0.049876           1     0.049876\n",
       "17  0.991142  1.000132     -0.008858          -1     0.008858\n",
       "18  0.981757  1.002468     -0.018243           1    -0.018243\n",
       "19  0.993107  1.004115     -0.006893           1    -0.006893\n",
       "20  1.021814  1.002614      0.021814           1     0.021814\n",
       "21  0.994620  1.000474     -0.005380          -1     0.005380\n",
       "22  1.017182  1.001029      0.017182          -1    -0.017182\n",
       "23  1.006119  1.002600      0.006119           1     0.006119\n",
       "24  0.995561  1.002951     -0.004439           1    -0.004439\n",
       "25  0.991659  1.003093     -0.008341           1    -0.008341\n",
       "26  0.987092  1.003137     -0.012908           1    -0.012908\n",
       "27  1.029132  1.002802      0.029132           1     0.029132\n",
       "28  1.036942  1.000482      0.036942          -1    -0.036942\n",
       "29  0.990977  1.000491     -0.009023          -1     0.009023"
      ]
     },
     "execution_count": 18,
     "metadata": {},
     "output_type": "execute_result"
    }
   ],
   "source": [
    "pred_test_df = pd.DataFrame({\n",
    "    \"actual\": test_y,\n",
    "    \"preds\": pred_test_y,\n",
    "    \"daily_change\": test_y - 1,\n",
    "    \"long_short\": np.where(pred_test_y > model_cutoff,1,-1),\n",
    "})\n",
    "pred_test_df[\"profit_loss\"] = pred_test_df[\"daily_change\"] * pred_test_df[\"long_short\"]\n",
    "pred_test_df"
   ]
  },
  {
   "cell_type": "markdown",
   "id": "47d27b7e",
   "metadata": {},
   "source": [
    "In the above table, we have the results for the 30 days on the test sample.\n",
    "\n",
    "* `daily_change` shows the percentage change of bitcoin price on the given day\n",
    "* `long_short` shows the action on the given day. 1 is long and -1 is short.\n",
    "* `profit_loss` shows the profit or loss in percentage on the given day\n",
    "\n",
    "Now let us check the overall profit / loss for the 30 days on the test sample."
   ]
  },
  {
   "cell_type": "code",
   "execution_count": 19,
   "id": "efc5bec7",
   "metadata": {},
   "outputs": [
    {
     "data": {
      "text/plain": [
       "0.006912561913379078"
      ]
     },
     "execution_count": 19,
     "metadata": {},
     "output_type": "execute_result"
    }
   ],
   "source": [
    "pred_test_df[\"profit_loss\"].sum()"
   ]
  },
  {
   "cell_type": "markdown",
   "id": "4bc126b2",
   "metadata": {},
   "source": [
    "As we can see, the performance reduced to 0.6% for the test set duration from the 15% for the validation set duration. \n",
    "\n",
    "**So this model is quite volatile and cannot be used as such!!** \n",
    "\n",
    "We will need a lot of improvement to make it usable. But we have a good baseline model and also hopefully a good understanding of how to go about predicting the prices of different crypto tokens at a daily level using ML. \n",
    "\n",
    "Some ideas that may help improve from here are:\n",
    "* Trying out other features and see if that helps\n",
    "* Trying out other models with hyperparameter optimization\n",
    "* Validating the model on different time frames and see if the model holds good across time periods.\n",
    "* Trying out on a different crypto coin\n",
    "\n",
    "Do let us know what you think about the blog and also ways to improve it from here. Cheers!"
   ]
  }
 ],
 "metadata": {
  "kernelspec": {
   "display_name": "Python 3 (ipykernel)",
   "language": "python",
   "name": "python3"
  },
  "language_info": {
   "codemirror_mode": {
    "name": "ipython",
    "version": 3
   },
   "file_extension": ".py",
   "mimetype": "text/x-python",
   "name": "python",
   "nbconvert_exporter": "python",
   "pygments_lexer": "ipython3",
   "version": "3.10.4"
  }
 },
 "nbformat": 4,
 "nbformat_minor": 5
}
